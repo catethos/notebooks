{
 "metadata": {
  "name": "",
  "signature": "sha256:5fc00f78dab4a3777aad5b89f17f3b4c4c79b78bc3ef8eadd71905db61c7c0e0"
 },
 "nbformat": 3,
 "nbformat_minor": 0,
 "worksheets": [
  {
   "cells": [
    {
     "cell_type": "markdown",
     "metadata": {},
     "source": [
      "Bloom Filter\n",
      "============\n",
      "This is a proof of the concept that\n",
      "random forest can be used as a hash function\n",
      "in the Bloom Filter.\n",
      "The Bloom Filter is mainly used as a data structure\n",
      "that can be efficiently tested if\n",
      "a particular element is in it.\n",
      "\n",
      "A simple english spelling checker is implement here."
     ]
    },
    {
     "cell_type": "code",
     "collapsed": false,
     "input": [
      "import bitarray\n",
      "import array\n",
      "import numpy as np\n",
      "from sklearn.ensemble import RandomTreesEmbedding\n",
      "\n",
      "def str_to_byte (string):\n",
      "    return np.array(bytearray(string,\"ascii\"))\n",
      "\n",
      "def shuffle_string(string):\n",
      "    list_char = list(string)\n",
      "    np.random.shuffle(list_char)\n",
      "    return \"\".join(list_char)"
     ],
     "language": "python",
     "metadata": {},
     "outputs": [],
     "prompt_number": 1
    },
    {
     "cell_type": "markdown",
     "metadata": {},
     "source": [
      "Load a dictionary of english words"
     ]
    },
    {
     "cell_type": "code",
     "collapsed": false,
     "input": [
      "dictionary_path = \"/usr/share/dict/words\"\n",
      "f = open(dictionary_path,\"r\")\n",
      "words = [x.strip() for x in f]\n",
      "f.close()"
     ],
     "language": "python",
     "metadata": {},
     "outputs": [],
     "prompt_number": 2
    },
    {
     "cell_type": "markdown",
     "metadata": {},
     "source": [
      "For simplicity, restrict the length the words to be less than 10"
     ]
    },
    {
     "cell_type": "code",
     "collapsed": false,
     "input": [
      "def byte_words(length):\n",
      "    for word in words:\n",
      "        if len(word)<=length:\n",
      "            yield str_to_byte(word.ljust(length,\"0\"))\n",
      "\n",
      "def byte_shuffled_words(length):\n",
      "    for word in words:\n",
      "        if len(word)<=length:\n",
      "            yield str_to_byte(shuffle_string(word).ljust(length,\"0\"))\n",
      "            \n",
      "def data(length):\n",
      "    yield from byte_words(length)\n",
      "    yield from byte_shuffled_words(length)"
     ],
     "language": "python",
     "metadata": {},
     "outputs": [],
     "prompt_number": 3
    },
    {
     "cell_type": "code",
     "collapsed": false,
     "input": [
      "transformer = RandomTreesEmbedding(n_estimators=10,max_depth=None,n_jobs=-1)"
     ],
     "language": "python",
     "metadata": {},
     "outputs": [],
     "prompt_number": 4
    },
    {
     "cell_type": "code",
     "collapsed": false,
     "input": [
      "d = data(10)"
     ],
     "language": "python",
     "metadata": {},
     "outputs": [],
     "prompt_number": 5
    },
    {
     "cell_type": "code",
     "collapsed": false,
     "input": [
      "transformer.fit(list(d))"
     ],
     "language": "python",
     "metadata": {},
     "outputs": [
      {
       "metadata": {},
       "output_type": "pyout",
       "prompt_number": 6,
       "text": [
        "RandomTreesEmbedding(max_depth=None, max_leaf_nodes=None, min_density=None,\n",
        "           min_samples_leaf=1, min_samples_split=2,\n",
        "           min_weight_fraction_leaf=0.0, n_estimators=10, n_jobs=-1,\n",
        "           random_state=None, sparse_output=True, verbose=0)"
       ]
      }
     ],
     "prompt_number": 6
    },
    {
     "cell_type": "code",
     "collapsed": false,
     "input": [
      "t_data = transformer.transform(list(byte_words(10)))"
     ],
     "language": "python",
     "metadata": {},
     "outputs": [],
     "prompt_number": 7
    },
    {
     "cell_type": "code",
     "collapsed": false,
     "input": [
      "s = t_data.sum(0) != 0\n",
      "arra = np.array(s)[0].__iter__()\n",
      "bs = bitarray.bitarray(arra)"
     ],
     "language": "python",
     "metadata": {},
     "outputs": [],
     "prompt_number": 8
    },
    {
     "cell_type": "markdown",
     "metadata": {},
     "source": [
      "Tests on some words. Any result less than 500 indicates it is not \n",
      "an english word."
     ]
    },
    {
     "cell_type": "code",
     "collapsed": false,
     "input": [
      "english = [\"something\",\"nothing\",\"mat\",\"dog\",\"cat\",\"oven\",\"tab\",\"bit\",\"soon\",\"sex\"]\n",
      "non_english = [\"abcdrf\",\"yui\",\"123\",\"bonj\",\"pako\",\"boko\",\"nakka\",\"meja\",\"buku\",\"beep\"]\n",
      "near_english = [\"sama\",\"caa\",\"mottt\",\"tir\",\"ssa\"]"
     ],
     "language": "python",
     "metadata": {},
     "outputs": [],
     "prompt_number": 9
    },
    {
     "cell_type": "code",
     "collapsed": false,
     "input": [
      "for x in english:\n",
      "    btest = bitarray.bitarray(transformer.transform(str_to_byte(x.ljust(10,\"0\"))).toarray()[0].__iter__())\n",
      "    #y = test.toarray()[0].__iter__()\n",
      "    #btest = bitarray.bitarray(y)\n",
      "    print((btest & bs).count())"
     ],
     "language": "python",
     "metadata": {},
     "outputs": [
      {
       "output_type": "stream",
       "stream": "stdout",
       "text": [
        "10\n",
        "10"
       ]
      },
      {
       "output_type": "stream",
       "stream": "stdout",
       "text": [
        "\n",
        "10"
       ]
      },
      {
       "output_type": "stream",
       "stream": "stdout",
       "text": [
        "\n",
        "10"
       ]
      },
      {
       "output_type": "stream",
       "stream": "stdout",
       "text": [
        "\n",
        "10"
       ]
      },
      {
       "output_type": "stream",
       "stream": "stdout",
       "text": [
        "\n",
        "10"
       ]
      },
      {
       "output_type": "stream",
       "stream": "stdout",
       "text": [
        "\n",
        "10"
       ]
      },
      {
       "output_type": "stream",
       "stream": "stdout",
       "text": [
        "\n",
        "10"
       ]
      },
      {
       "output_type": "stream",
       "stream": "stdout",
       "text": [
        "\n",
        "10"
       ]
      },
      {
       "output_type": "stream",
       "stream": "stdout",
       "text": [
        "\n",
        "10"
       ]
      },
      {
       "output_type": "stream",
       "stream": "stdout",
       "text": [
        "\n"
       ]
      }
     ],
     "prompt_number": 29
    },
    {
     "cell_type": "code",
     "collapsed": false,
     "input": [
      "%timeit transformer.apply([1,2,3,4,5,6,7,8,9,10])"
     ],
     "language": "python",
     "metadata": {},
     "outputs": [
      {
       "output_type": "stream",
       "stream": "stdout",
       "text": [
        "10 loops, best of 3: 104 ms per loop\n"
       ]
      }
     ],
     "prompt_number": 33
    },
    {
     "cell_type": "code",
     "collapsed": false,
     "input": [
      "%timeit transformer.apply(str_to_byte(english[0].ljust(10,\"0\")))"
     ],
     "language": "python",
     "metadata": {},
     "outputs": [
      {
       "output_type": "stream",
       "stream": "stdout",
       "text": [
        "10 loops, best of 3: 104 ms per loop\n"
       ]
      }
     ],
     "prompt_number": 34
    },
    {
     "cell_type": "code",
     "collapsed": false,
     "input": [
      "%timeit (btest&bs).count()"
     ],
     "language": "python",
     "metadata": {},
     "outputs": [
      {
       "output_type": "stream",
       "stream": "stdout",
       "text": [
        "1000 loops, best of 3: 602 \u00b5s per loop\n"
       ]
      }
     ],
     "prompt_number": 27
    },
    {
     "cell_type": "code",
     "collapsed": false,
     "input": [
      "%timeit (btest&bs) == btest"
     ],
     "language": "python",
     "metadata": {},
     "outputs": [
      {
       "output_type": "stream",
       "stream": "stdout",
       "text": [
        "100 loops, best of 3: 6.5 ms per loop\n"
       ]
      }
     ],
     "prompt_number": 26
    },
    {
     "cell_type": "code",
     "collapsed": false,
     "input": [
      "for x in non_english:\n",
      "    test = transformer.transform(str_to_byte(x.ljust(10,\"0\")))\n",
      "    y = test.toarray()[0].__iter__()\n",
      "    btest = bitarray.bitarray(y)\n",
      "    print((btest & bs).count())"
     ],
     "language": "python",
     "metadata": {},
     "outputs": [
      {
       "output_type": "stream",
       "stream": "stdout",
       "text": [
        "3\n",
        "10"
       ]
      },
      {
       "output_type": "stream",
       "stream": "stdout",
       "text": [
        "\n",
        "9"
       ]
      },
      {
       "output_type": "stream",
       "stream": "stdout",
       "text": [
        "\n",
        "6"
       ]
      },
      {
       "output_type": "stream",
       "stream": "stdout",
       "text": [
        "\n",
        "7"
       ]
      },
      {
       "output_type": "stream",
       "stream": "stdout",
       "text": [
        "\n",
        "5"
       ]
      },
      {
       "output_type": "stream",
       "stream": "stdout",
       "text": [
        "\n",
        "2"
       ]
      },
      {
       "output_type": "stream",
       "stream": "stdout",
       "text": [
        "\n",
        "5"
       ]
      },
      {
       "output_type": "stream",
       "stream": "stdout",
       "text": [
        "\n",
        "2"
       ]
      },
      {
       "output_type": "stream",
       "stream": "stdout",
       "text": [
        "\n",
        "8"
       ]
      },
      {
       "output_type": "stream",
       "stream": "stdout",
       "text": [
        "\n"
       ]
      }
     ],
     "prompt_number": 11
    },
    {
     "cell_type": "code",
     "collapsed": false,
     "input": [
      "for x in near_english:\n",
      "    test = transformer.transform(str_to_byte(x.ljust(10,\"0\")))\n",
      "    y = test.toarray()[0].__iter__()\n",
      "    btest = bitarray.bitarray(y)\n",
      "    print((btest & bs).count())"
     ],
     "language": "python",
     "metadata": {},
     "outputs": [
      {
       "output_type": "stream",
       "stream": "stdout",
       "text": [
        "7\n",
        "6"
       ]
      },
      {
       "output_type": "stream",
       "stream": "stdout",
       "text": [
        "\n",
        "7"
       ]
      },
      {
       "output_type": "stream",
       "stream": "stdout",
       "text": [
        "\n",
        "6"
       ]
      },
      {
       "output_type": "stream",
       "stream": "stdout",
       "text": [
        "\n",
        "0"
       ]
      },
      {
       "output_type": "stream",
       "stream": "stdout",
       "text": [
        "\n"
       ]
      }
     ],
     "prompt_number": 12
    },
    {
     "cell_type": "code",
     "collapsed": false,
     "input": [
      "for x in english:\n",
      "    print(x in words)"
     ],
     "language": "python",
     "metadata": {},
     "outputs": [
      {
       "output_type": "stream",
       "stream": "stdout",
       "text": [
        "True\n",
        "True\n",
        "True\n",
        "True\n",
        "True\n",
        "True\n",
        "True\n",
        "True\n",
        "True\n",
        "True\n"
       ]
      }
     ],
     "prompt_number": 14
    },
    {
     "cell_type": "code",
     "collapsed": false,
     "input": [
      "for x in non_english:\n",
      "    print(x in words)"
     ],
     "language": "python",
     "metadata": {},
     "outputs": [
      {
       "output_type": "stream",
       "stream": "stdout",
       "text": [
        "False\n",
        "False\n",
        "False\n",
        "False\n",
        "False\n",
        "False\n",
        "False\n",
        "False\n",
        "False\n",
        "False\n"
       ]
      }
     ],
     "prompt_number": 15
    },
    {
     "cell_type": "code",
     "collapsed": false,
     "input": [],
     "language": "python",
     "metadata": {},
     "outputs": []
    }
   ],
   "metadata": {}
  }
 ]
}