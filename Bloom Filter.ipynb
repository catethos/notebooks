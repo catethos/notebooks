{
 "metadata": {
  "name": "",
  "signature": "sha256:4016631e60bcc3c5485b1c50853e4876442fcfb99dfa038c4a966effeafeae6f"
 },
 "nbformat": 3,
 "nbformat_minor": 0,
 "worksheets": [
  {
   "cells": [
    {
     "cell_type": "markdown",
     "metadata": {},
     "source": [
      "Bloom Filter\n",
      "============\n",
      "This is a proof of the concept that\n",
      "random forest can be used as a hash function\n",
      "in the Bloom Filter.\n",
      "The Bloom Filter is mainly used as a data structure\n",
      "that can be efficiently tested if\n",
      "a particular element is in it.\n",
      "\n",
      "A simple english spelling checker is implement here."
     ]
    },
    {
     "cell_type": "code",
     "collapsed": false,
     "input": [
      "import array\n",
      "import numpy as np\n",
      "from sklearn.ensemble import RandomTreesEmbedding\n",
      "\n",
      "def str_to_byte (string):\n",
      "    byte_string = str.encode(string)\n",
      "    return np.array(array.array(\"B\",byte_string))\n",
      "\n",
      "def shuffle_string(string):\n",
      "    list_char = list(string)\n",
      "    np.random.shuffle(list_char)\n",
      "    return \"\".join(list_char)"
     ],
     "language": "python",
     "metadata": {},
     "outputs": [],
     "prompt_number": 1
    },
    {
     "cell_type": "markdown",
     "metadata": {},
     "source": [
      "Load a dictionary of english words"
     ]
    },
    {
     "cell_type": "code",
     "collapsed": false,
     "input": [
      "dictionary_path = \"/usr/share/dict/words\"\n",
      "f = open(dictionary_path,\"r\")\n",
      "words = [x.strip() for x in f]\n",
      "f.close()"
     ],
     "language": "python",
     "metadata": {},
     "outputs": [],
     "prompt_number": 2
    },
    {
     "cell_type": "markdown",
     "metadata": {},
     "source": [
      "For simplicity, restrict the length the words to be less than 10"
     ]
    },
    {
     "cell_type": "code",
     "collapsed": false,
     "input": [
      "words_length_10 = list(filter(lambda x: len(x)<=10,words))\n",
      "data = []\n",
      "data.extend(words_length_10)\n",
      "data.extend([shuffle_string(x) for x in words_length_10])\n",
      "data = [x.ljust(10,\"0\") for x in data]"
     ],
     "language": "python",
     "metadata": {},
     "outputs": [],
     "prompt_number": 3
    },
    {
     "cell_type": "code",
     "collapsed": false,
     "input": [
      "transformer = RandomTreesEmbedding(n_estimators=500,max_depth=None)"
     ],
     "language": "python",
     "metadata": {},
     "outputs": [],
     "prompt_number": 5
    },
    {
     "cell_type": "code",
     "collapsed": false,
     "input": [
      "transformer.fit([str_to_byte(x) for x in data])"
     ],
     "language": "python",
     "metadata": {},
     "outputs": [
      {
       "metadata": {},
       "output_type": "pyout",
       "prompt_number": 6,
       "text": [
        "RandomTreesEmbedding(max_depth=None, max_leaf_nodes=None, min_density=None,\n",
        "           min_samples_leaf=1, min_samples_split=2,\n",
        "           min_weight_fraction_leaf=0.0, n_estimators=500, n_jobs=1,\n",
        "           random_state=None, sparse_output=True, verbose=0)"
       ]
      }
     ],
     "prompt_number": 6
    },
    {
     "cell_type": "code",
     "collapsed": false,
     "input": [
      "t_data = transformer.transform([str_to_byte(x.ljust(10,\"0\")) for x in words_length_10])"
     ],
     "language": "python",
     "metadata": {},
     "outputs": [],
     "prompt_number": 7
    },
    {
     "cell_type": "code",
     "collapsed": false,
     "input": [
      "s = t_data.sum(0) != 0"
     ],
     "language": "python",
     "metadata": {},
     "outputs": [],
     "prompt_number": 8
    },
    {
     "cell_type": "markdown",
     "metadata": {},
     "source": [
      "Tests on some words. Any result less than 500 indicates it is not \n",
      "an english word."
     ]
    },
    {
     "cell_type": "code",
     "collapsed": false,
     "input": [
      "english = [\"something\",\"nothing\",\"dog\",\"cat\",\"oven\",\"table\"]\n",
      "non_english = [\"123\",\"bonjour\",\"poko\",\"boko\",\"nakaka\"]"
     ],
     "language": "python",
     "metadata": {},
     "outputs": [],
     "prompt_number": 12
    },
    {
     "cell_type": "code",
     "collapsed": false,
     "input": [
      "for x in english:\n",
      "    test = transformer.transform(str_to_byte(x.ljust(10,\"0\")))\n",
      "    print(test.dot(s.T))"
     ],
     "language": "python",
     "metadata": {},
     "outputs": [
      {
       "output_type": "stream",
       "stream": "stdout",
       "text": [
        "[[ 500.]]\n",
        "[[ 500.]]"
       ]
      },
      {
       "output_type": "stream",
       "stream": "stdout",
       "text": [
        "\n",
        "[[ 500.]]"
       ]
      },
      {
       "output_type": "stream",
       "stream": "stdout",
       "text": [
        "\n",
        "[[ 500.]]"
       ]
      },
      {
       "output_type": "stream",
       "stream": "stdout",
       "text": [
        "\n",
        "[[ 500.]]"
       ]
      },
      {
       "output_type": "stream",
       "stream": "stdout",
       "text": [
        "\n",
        "[[ 500.]]"
       ]
      },
      {
       "output_type": "stream",
       "stream": "stdout",
       "text": [
        "\n"
       ]
      }
     ],
     "prompt_number": 10
    },
    {
     "cell_type": "code",
     "collapsed": false,
     "input": [
      "for x in non_english:\n",
      "    test = transformer.transform(str_to_byte(x.ljust(10,\"0\")))\n",
      "    print(test.dot(s.T))"
     ],
     "language": "python",
     "metadata": {},
     "outputs": [
      {
       "output_type": "stream",
       "stream": "stdout",
       "text": [
        "[[ 472.]]\n",
        "[[ 327.]]"
       ]
      },
      {
       "output_type": "stream",
       "stream": "stdout",
       "text": [
        "\n",
        "[[ 315.]]"
       ]
      },
      {
       "output_type": "stream",
       "stream": "stdout",
       "text": [
        "\n",
        "[[ 325.]]"
       ]
      },
      {
       "output_type": "stream",
       "stream": "stdout",
       "text": [
        "\n",
        "[[ 308.]]"
       ]
      },
      {
       "output_type": "stream",
       "stream": "stdout",
       "text": [
        "\n"
       ]
      }
     ],
     "prompt_number": 13
    }
   ],
   "metadata": {}
  }
 ]
}