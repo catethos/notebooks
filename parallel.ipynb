{
 "metadata": {
  "name": "",
  "signature": "sha256:85916950005c64142c8f9531f0d7e9399e512203ed2cc81ad6a8720ae2462675"
 },
 "nbformat": 3,
 "nbformat_minor": 0,
 "worksheets": [
  {
   "cells": [
    {
     "cell_type": "code",
     "collapsed": false,
     "input": [
      "from IPython import parallel\n",
      "import pandas as pd"
     ],
     "language": "python",
     "metadata": {},
     "outputs": [],
     "prompt_number": 1
    },
    {
     "cell_type": "code",
     "collapsed": false,
     "input": [
      "c = parallel.Client()"
     ],
     "language": "python",
     "metadata": {},
     "outputs": [],
     "prompt_number": 17
    },
    {
     "cell_type": "code",
     "collapsed": false,
     "input": [
      "lbv = c[:]"
     ],
     "language": "python",
     "metadata": {},
     "outputs": [],
     "prompt_number": 20
    },
    {
     "cell_type": "code",
     "collapsed": false,
     "input": [
      "lbv.push({\"f\":f})"
     ],
     "language": "python",
     "metadata": {},
     "outputs": [
      {
       "metadata": {},
       "output_type": "pyout",
       "prompt_number": 31,
       "text": [
        "<AsyncResult: finished>"
       ]
      }
     ],
     "prompt_number": 31
    },
    {
     "cell_type": "code",
     "collapsed": false,
     "input": [
      "def f(x):\n",
      "    return x+1"
     ],
     "language": "python",
     "metadata": {},
     "outputs": [],
     "prompt_number": 28
    },
    {
     "cell_type": "code",
     "collapsed": false,
     "input": [
      "r = lbv.map(lambda x: f(x), [1,2,3,4])"
     ],
     "language": "python",
     "metadata": {},
     "outputs": [],
     "prompt_number": 32
    },
    {
     "cell_type": "code",
     "collapsed": false,
     "input": [
      "r.result"
     ],
     "language": "python",
     "metadata": {},
     "outputs": [
      {
       "metadata": {},
       "output_type": "pyout",
       "prompt_number": 33,
       "text": [
        "[2, 3, 4, 5]"
       ]
      }
     ],
     "prompt_number": 33
    },
    {
     "cell_type": "code",
     "collapsed": false,
     "input": [],
     "language": "python",
     "metadata": {},
     "outputs": []
    },
    {
     "cell_type": "code",
     "collapsed": false,
     "input": [],
     "language": "python",
     "metadata": {},
     "outputs": []
    },
    {
     "cell_type": "code",
     "collapsed": false,
     "input": [
      "%%px \n",
      "import custom\n",
      "import numpy as np\n",
      "from sklearn.ensemble import RandomForestClassifier,ExtraTreesClassifier,RandomTreesEmbedding\n",
      "from sklearn.datasets import load_digits\n",
      "from sklearn.metrics import euclidean_distances\n",
      "\n",
      "def dist(x):\n",
      "    new = custom.reconstruct(re,re.apply(x)[0],64,0,16)\n",
      "    return euclidean_distances(new,x)[0][0]\n",
      "\n",
      "n_training_data = 100\n",
      "max_depth = None\n",
      "\n",
      "digit = load_digits()\n",
      "X_train = digit.data[:n_training_data]\n",
      "Y_train = digit.target[:n_training_data]\n",
      "X_test = digit.data[n_training_data:]\n",
      "Y_test = digit.data[n_training_data:]\n",
      "\n",
      "classifierDict = {\"random forest\":RandomForestClassifier,\"extra trees\":ExtraTreesClassifier,\"rte\":RandomTreesEmbedding}\n"
     ],
     "language": "python",
     "metadata": {},
     "outputs": [],
     "prompt_number": 3
    },
    {
     "cell_type": "code",
     "collapsed": false,
     "input": [
      "from sklearn.datasets import load_digits\n",
      "n_training_data = 100\n",
      "\n",
      "digit = load_digits()\n",
      "X_train = digit.data[:n_training_data]\n",
      "Y_train = digit.target[:n_training_data]\n",
      "X_test = digit.data[n_training_data:]\n",
      "Y_test = digit.data[n_training_data:]\n"
     ],
     "language": "python",
     "metadata": {},
     "outputs": [],
     "prompt_number": 4
    },
    {
     "cell_type": "code",
     "collapsed": false,
     "input": [
      "configuration = ([classifier,\n",
      "                  n_estimators,\n",
      "                  max_feature,\n",
      "                  test_data]\n",
      "                 for classifier in [\"random forest\",\"extra trees\"]\n",
      "                 for n_estimators in range(10,120,20)\n",
      "                 for max_feature in [None,1,\"sqrt\",\"log2\"]\n",
      "                 for test_data in X_test)"
     ],
     "language": "python",
     "metadata": {},
     "outputs": [],
     "prompt_number": 14
    },
    {
     "cell_type": "code",
     "collapsed": false,
     "input": [
      "def run(conf):\n",
      "    classifier = conf[0]\n",
      "    n_estimators = conf[1]\n",
      "    max_features = conf[2]\n",
      "    test_data = conf[3]\n",
      "    cls = classifierDict[classifier](n_estimators=n_estimators,max_features=max_features,max_depth=max_depth)\n",
      "    cls.fit(X_train,Y_train)\n",
      "    new = custom.reconstruct(cls,cls.apply(test_data)[0],64,0,16)\n",
      "    error = euclidean_distances(new,test_data)[0][0]\n",
      "    return {\"error\":error,\n",
      "            \"classifier\":classifier,\n",
      "            \"n\":n_estimators,\n",
      "            \"max_feature\":max_features,\n",
      "            \"max_depth\":max_depth,\n",
      "            \"training_data\":\"digits\",\n",
      "            \"testing_data\":\"digits\",\n",
      "            \"n_training_data\":n_training_data}"
     ],
     "language": "python",
     "metadata": {},
     "outputs": [],
     "prompt_number": 6
    },
    {
     "cell_type": "code",
     "collapsed": false,
     "input": [
      "lbv = c.load_balanced_view()\n",
      "r = lbv.map(run,list(configuration)[:10])"
     ],
     "language": "python",
     "metadata": {},
     "outputs": [],
     "prompt_number": 7
    },
    {
     "cell_type": "code",
     "collapsed": false,
     "input": [
      "df = pd.DataFrame(r.result)"
     ],
     "language": "python",
     "metadata": {},
     "outputs": [],
     "prompt_number": 11
    },
    {
     "cell_type": "code",
     "collapsed": false,
     "input": [
      "r.progress"
     ],
     "language": "python",
     "metadata": {},
     "outputs": [
      {
       "metadata": {},
       "output_type": "pyout",
       "prompt_number": 13,
       "text": [
        "10"
       ]
      }
     ],
     "prompt_number": 13
    },
    {
     "cell_type": "code",
     "collapsed": false,
     "input": [
      "len(list(configuration))"
     ],
     "language": "python",
     "metadata": {},
     "outputs": [
      {
       "metadata": {},
       "output_type": "pyout",
       "prompt_number": 15,
       "text": [
        "81456"
       ]
      }
     ],
     "prompt_number": 15
    },
    {
     "cell_type": "code",
     "collapsed": false,
     "input": [],
     "language": "python",
     "metadata": {},
     "outputs": []
    }
   ],
   "metadata": {}
  }
 ]
}