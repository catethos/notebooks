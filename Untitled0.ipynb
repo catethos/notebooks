{
 "metadata": {
  "name": "",
  "signature": "sha256:331b02880126d1eef6cd3625f78eee3e0895f240b3ec87b31c45ede7344260e3"
 },
 "nbformat": 3,
 "nbformat_minor": 0,
 "worksheets": [
  {
   "cells": [
    {
     "cell_type": "code",
     "collapsed": false,
     "input": [
      "from IPython import parallel\n",
      "c = parallel.Client()\n",
      "v = c[:]\n",
      "c.clear()"
     ],
     "language": "python",
     "metadata": {},
     "outputs": [],
     "prompt_number": 1
    },
    {
     "cell_type": "code",
     "collapsed": false,
     "input": [
      "c.clear()"
     ],
     "language": "python",
     "metadata": {},
     "outputs": [],
     "prompt_number": 41
    },
    {
     "cell_type": "code",
     "collapsed": false,
     "input": [
      "%%px\n",
      "import numpy as np\n",
      "from sklearn.datasets import load_digits\n",
      "from sklearn.ensemble import RandomForestClassifier\n",
      "\n",
      "def contain_in(x,y):\n",
      "    for u,v in zip(x,y):\n",
      "        if not (u in v):\n",
      "            return False\n",
      "    return True\n",
      "\n",
      "def error(X,cls):\n",
      "    np.random.shuffle(X)\n",
      "    #X_500 = (set(x) for x in cls.apply(X[:500]).T)\n",
      "    X_500 = cls.apply(X[:500])\n",
      "    error = 0\n",
      "    for t in cls.apply(X[500:]):\n",
      "        if contain_in(t,X_500.T):\n",
      "            error+=1\n",
      "    return error"
     ],
     "language": "python",
     "metadata": {},
     "outputs": [],
     "prompt_number": 2
    },
    {
     "cell_type": "code",
     "collapsed": false,
     "input": [
      "import numpy as np\n",
      "from sklearn.datasets import load_digits\n",
      "from sklearn.ensemble import RandomForestClassifier\n",
      "%matplotlib inline\n",
      "import matplotlib.pyplot as plt\n",
      "import pickle\n",
      "\n",
      "def contain_in(x,y):\n",
      "    for u,v in zip(x,y):\n",
      "        if not (u in v):\n",
      "            return False\n",
      "    return True\n",
      "\n",
      "def error(X,cls):\n",
      "    np.random.shuffle(X)\n",
      "    #X_500 = (set(x) for x in cls.apply(X[:500]).T)\n",
      "    X_500 = cls.apply(X[:500])\n",
      "    error = 0\n",
      "    for t in cls.apply(X[500:]):\n",
      "        if contain_in(t,X_500.T):\n",
      "            error+=1\n",
      "    return error"
     ],
     "language": "python",
     "metadata": {},
     "outputs": [],
     "prompt_number": 3
    },
    {
     "cell_type": "code",
     "collapsed": false,
     "input": [
      "error_list = {}"
     ],
     "language": "python",
     "metadata": {},
     "outputs": [],
     "prompt_number": 4
    },
    {
     "cell_type": "code",
     "collapsed": false,
     "input": [
      "with open(\"error3000.pkl\",\"rb\") as f:\n",
      "    error_list = pickle.load(f)"
     ],
     "language": "python",
     "metadata": {},
     "outputs": [],
     "prompt_number": 4
    },
    {
     "cell_type": "code",
     "collapsed": false,
     "input": [
      "with open(\"mnist_train.npy\",\"rb\") as f:\n",
      "    digit = np.load(f)\n",
      "X = digit[:,:-1]\n",
      "X = X*256\n",
      "X.astype(np.uint8)"
     ],
     "language": "python",
     "metadata": {},
     "outputs": [],
     "prompt_number": 2
    },
    {
     "cell_type": "code",
     "collapsed": false,
     "input": [
      "digit = load_digits()\n",
      "X = digit.data\n",
      "Y = digit.target\n",
      "X.astype(np.uint8)"
     ],
     "language": "python",
     "metadata": {},
     "outputs": [
      {
       "metadata": {},
       "output_type": "pyout",
       "prompt_number": 5,
       "text": [
        "array([[ 0,  0,  5, ...,  0,  0,  0],\n",
        "       [ 0,  0,  0, ..., 10,  0,  0],\n",
        "       [ 0,  0,  0, ..., 16,  9,  0],\n",
        "       ..., \n",
        "       [ 0,  0,  1, ...,  6,  0,  0],\n",
        "       [ 0,  0,  2, ..., 12,  0,  0],\n",
        "       [ 0,  0, 10, ..., 12,  1,  0]], dtype=uint8)"
       ]
      }
     ],
     "prompt_number": 5
    },
    {
     "cell_type": "code",
     "collapsed": false,
     "input": [
      "data_max = X.max()\n",
      "data_min = X.min()\n",
      "label_max =30\n",
      "label_min = 0\n",
      "n_data = 4000\n",
      "data_shape = X.shape[1]\n",
      "n_trees = 600\n",
      "\n",
      "cls = RandomForestClassifier(n_estimators=n_trees,\n",
      "                             max_depth=None,\n",
      "                             max_features=1,\n",
      "                             criterion=\"entropy\",\n",
      "                             n_jobs=-1)\n",
      "\n",
      "cls.fit(np.random.randint(data_min,\n",
      "                          data_max,\n",
      "                          (n_data,data_shape)),\n",
      "        np.random.randint(label_min,\n",
      "                          label_max,\n",
      "                          n_data))"
     ],
     "language": "python",
     "metadata": {},
     "outputs": [
      {
       "metadata": {},
       "output_type": "pyout",
       "prompt_number": 38,
       "text": [
        "RandomForestClassifier(bootstrap=True, compute_importances=None,\n",
        "            criterion='entropy', max_depth=None, max_features=1,\n",
        "            max_leaf_nodes=None, min_density=None, min_samples_leaf=1,\n",
        "            min_samples_split=2, min_weight_fraction_leaf=0.0,\n",
        "            n_estimators=600, n_jobs=-1, oob_score=False,\n",
        "            random_state=None, verbose=0)"
       ]
      }
     ],
     "prompt_number": 38
    },
    {
     "cell_type": "code",
     "collapsed": false,
     "input": [
      "v.push({\"cls\":cls,\"X\":X})"
     ],
     "language": "python",
     "metadata": {},
     "outputs": [
      {
       "metadata": {},
       "output_type": "pyout",
       "prompt_number": 39,
       "text": [
        "<AsyncResult: _push>"
       ]
      }
     ],
     "prompt_number": 39
    },
    {
     "cell_type": "code",
     "collapsed": false,
     "input": [
      "r = v.map(lambda x: error(X,cls),range(1000))"
     ],
     "language": "python",
     "metadata": {},
     "outputs": [],
     "prompt_number": 40
    },
    {
     "cell_type": "code",
     "collapsed": false,
     "input": [
      "error = np.array(r.result)"
     ],
     "language": "python",
     "metadata": {},
     "outputs": [],
     "prompt_number": 41
    },
    {
     "cell_type": "code",
     "collapsed": false,
     "input": [
      "error_list[str(n_trees)] = error"
     ],
     "language": "python",
     "metadata": {},
     "outputs": [],
     "prompt_number": 42
    },
    {
     "cell_type": "code",
     "collapsed": false,
     "input": [
      "with open(\"error4000.pkl\",\"wb\") as f:\n",
      "    pickle.dump(error_list,f)"
     ],
     "language": "python",
     "metadata": {},
     "outputs": [],
     "prompt_number": 43
    },
    {
     "cell_type": "code",
     "collapsed": false,
     "input": [
      "fig = plt.figure(figsize=(7,7))\n",
      "ax = fig.add_subplot(111)\n",
      "labels = list(error_list.keys())\n",
      "labels.sort()\n",
      "for k in labels:\n",
      "    ax.hist(error_list[k]/12.97,alpha=0.3,bins=10,normed=True,label=k)\n",
      "plt.xlabel(\"Error(%)\")\n",
      "plt.ylabel(\"Normalized Frequency\")\n",
      "plt.title(\"Distribution of Error Rate\")\n",
      "plt.legend(loc=0,title=\"Number of Trees\")\n",
      "plt.show()"
     ],
     "language": "python",
     "metadata": {},
     "outputs": [
      {
       "metadata": {},
       "output_type": "display_data",
       "png": "[encoded data removed]",
       "text": [
        "<matplotlib.figure.Figure at 0x24aa00a20>"
       ]
      }
     ],
     "prompt_number": 44
    },
    {
     "cell_type": "code",
     "collapsed": false,
     "input": [
      "labels = list(error_list.keys())\n",
      "labels.sort()\n",
      "fig = plt.figure(figsize=(7,7))\n",
      "ax = fig.add_subplot(111)\n",
      "ax.boxplot([error_list[x] for x in labels],widths=0.2,sym=\"\")\n",
      "ax.spines[\"top\"].set_visible(False)\n",
      "ax.spines[\"right\"].set_visible(False)\n",
      "ax.spines[\"bottom\"].set_visible(False)\n",
      "ax.set_xticklabels(labels)\n",
      "ax.xaxis.set_ticks_position(\"none\")\n",
      "ax.yaxis.set_ticks_position(\"none\")\n",
      "ax.set_xlabel(\"Number of trees\")\n",
      "ax.set_ylabel(\"Error\")\n",
      "plt.show()"
     ],
     "language": "python",
     "metadata": {},
     "outputs": [
      {
       "metadata": {},
       "output_type": "display_data",
       "png": "[encoded data removed]",
       "text": [
        "<matplotlib.figure.Figure at 0x10841c860>"
       ]
      }
     ],
     "prompt_number": 45
    },
    {
     "cell_type": "code",
     "collapsed": false,
     "input": [],
     "language": "python",
     "metadata": {},
     "outputs": []
    }
   ],
   "metadata": {}
  }
 ]
}